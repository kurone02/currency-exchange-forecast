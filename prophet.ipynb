{
 "cells": [
  {
   "cell_type": "code",
   "execution_count": 1,
   "metadata": {},
   "outputs": [],
   "source": [
    "import numpy as np\n",
    "import pandas as pd\n",
    "import matplotlib.pyplot as plt"
   ]
  },
  {
   "cell_type": "code",
   "execution_count": 2,
   "metadata": {},
   "outputs": [
    {
     "name": "stderr",
     "output_type": "stream",
     "text": [
      "/opt/homebrew/lib/python3.11/site-packages/tqdm/auto.py:21: TqdmWarning: IProgress not found. Please update jupyter and ipywidgets. See https://ipywidgets.readthedocs.io/en/stable/user_install.html\n",
      "  from .autonotebook import tqdm as notebook_tqdm\n",
      "Importing plotly failed. Interactive plots will not work.\n"
     ]
    }
   ],
   "source": [
    "from prophet import Prophet\n",
    "from prophet.diagnostics import cross_validation\n",
    "from sklearn.preprocessing import MinMaxScaler\n",
    "from sklearn.metrics import mean_squared_error"
   ]
  },
  {
   "cell_type": "code",
   "execution_count": 3,
   "metadata": {},
   "outputs": [
    {
     "data": {
      "text/html": [
       "<div>\n",
       "<style scoped>\n",
       "    .dataframe tbody tr th:only-of-type {\n",
       "        vertical-align: middle;\n",
       "    }\n",
       "\n",
       "    .dataframe tbody tr th {\n",
       "        vertical-align: top;\n",
       "    }\n",
       "\n",
       "    .dataframe thead th {\n",
       "        text-align: right;\n",
       "    }\n",
       "</style>\n",
       "<table border=\"1\" class=\"dataframe\">\n",
       "  <thead>\n",
       "    <tr style=\"text-align: right;\">\n",
       "      <th></th>\n",
       "      <th>ds</th>\n",
       "      <th>y</th>\n",
       "    </tr>\n",
       "  </thead>\n",
       "  <tbody>\n",
       "    <tr>\n",
       "      <th>0</th>\n",
       "      <td>2004-01-02</td>\n",
       "      <td>12.661377</td>\n",
       "    </tr>\n",
       "    <tr>\n",
       "      <th>1</th>\n",
       "      <td>2004-01-05</td>\n",
       "      <td>12.597076</td>\n",
       "    </tr>\n",
       "    <tr>\n",
       "      <th>2</th>\n",
       "      <td>2004-01-06</td>\n",
       "      <td>12.724485</td>\n",
       "    </tr>\n",
       "    <tr>\n",
       "      <th>3</th>\n",
       "      <td>2004-01-07</td>\n",
       "      <td>12.622449</td>\n",
       "    </tr>\n",
       "    <tr>\n",
       "      <th>4</th>\n",
       "      <td>2004-01-08</td>\n",
       "      <td>12.665998</td>\n",
       "    </tr>\n",
       "    <tr>\n",
       "      <th>...</th>\n",
       "      <td>...</td>\n",
       "      <td>...</td>\n",
       "    </tr>\n",
       "    <tr>\n",
       "      <th>5974</th>\n",
       "      <td>2023-10-27</td>\n",
       "      <td>18.123903</td>\n",
       "    </tr>\n",
       "    <tr>\n",
       "      <th>5975</th>\n",
       "      <td>2023-10-28</td>\n",
       "      <td>18.123247</td>\n",
       "    </tr>\n",
       "    <tr>\n",
       "      <th>5976</th>\n",
       "      <td>2023-10-29</td>\n",
       "      <td>18.123247</td>\n",
       "    </tr>\n",
       "    <tr>\n",
       "      <th>5977</th>\n",
       "      <td>2023-10-30</td>\n",
       "      <td>18.211071</td>\n",
       "    </tr>\n",
       "    <tr>\n",
       "      <th>5978</th>\n",
       "      <td>2023-10-31</td>\n",
       "      <td>18.172880</td>\n",
       "    </tr>\n",
       "  </tbody>\n",
       "</table>\n",
       "<p>5979 rows × 2 columns</p>\n",
       "</div>"
      ],
      "text/plain": [
       "             ds          y\n",
       "0    2004-01-02  12.661377\n",
       "1    2004-01-05  12.597076\n",
       "2    2004-01-06  12.724485\n",
       "3    2004-01-07  12.622449\n",
       "4    2004-01-08  12.665998\n",
       "...         ...        ...\n",
       "5974 2023-10-27  18.123903\n",
       "5975 2023-10-28  18.123247\n",
       "5976 2023-10-29  18.123247\n",
       "5977 2023-10-30  18.211071\n",
       "5978 2023-10-31  18.172880\n",
       "\n",
       "[5979 rows x 2 columns]"
      ]
     },
     "execution_count": 3,
     "metadata": {},
     "output_type": "execute_result"
    }
   ],
   "source": [
    "data = pd.read_csv(\"preprocessed-data/krwvnd.csv\")\n",
    "data.rename(columns={'Date': 'ds', 'Close':'y'}, inplace=True)\n",
    "data[\"ds\"] = pd.to_datetime(data[\"ds\"])\n",
    "data"
   ]
  },
  {
   "cell_type": "code",
   "execution_count": 4,
   "metadata": {},
   "outputs": [
    {
     "name": "stdout",
     "output_type": "stream",
     "text": [
      "4783 1196\n"
     ]
    }
   ],
   "source": [
    "train_size = int(len(data) * 0.8)\n",
    "test_size = len(data) - train_size\n",
    "train, test = data.iloc[0:train_size], data.iloc[train_size:len(data)]\n",
    "print(len(train), len(test))"
   ]
  },
  {
   "cell_type": "code",
   "execution_count": 5,
   "metadata": {},
   "outputs": [],
   "source": [
    "# def create_dataset(dataset, look_back=1):\n",
    "#     data_prof = dataset.copy()\n",
    "#     for i in range(look_back, 0, -1):\n",
    "#         data_prof[f'y-{i}'] = dataset['y'].shift(i)\n",
    "#     data_prof = data_prof.dropna()\n",
    "#     return data_prof\n"
   ]
  },
  {
   "cell_type": "code",
   "execution_count": 6,
   "metadata": {},
   "outputs": [],
   "source": [
    "# look_back = 1\n",
    "# train_pf = create_dataset(train, look_back)\n",
    "# test_pf = create_dataset(test, look_back)"
   ]
  },
  {
   "cell_type": "code",
   "execution_count": 7,
   "metadata": {},
   "outputs": [],
   "source": [
    "param_grid = {\n",
    "    'seasonality_mode': ['additive', 'multiplicative'], #['additive', 'multiplicative']\n",
    "    'changepoint_prior_scale': [0.001, 0.01, 0.05], #[0.01, 0.1, 0.5]\n",
    "    'seasonality_prior_scale': [1, 10, 30], #[1, 10, 30]\n",
    "}\n"
   ]
  },
  {
   "cell_type": "code",
   "execution_count": 8,
   "metadata": {},
   "outputs": [],
   "source": [
    "best_params = {}\n",
    "best_score = float('inf')"
   ]
  },
  {
   "cell_type": "code",
   "execution_count": 9,
   "metadata": {},
   "outputs": [
    {
     "name": "stderr",
     "output_type": "stream",
     "text": [
      "22:00:12 - cmdstanpy - INFO - Chain [1] start processing\n",
      "22:00:12 - cmdstanpy - INFO - Chain [1] done processing\n",
      "22:00:13 - cmdstanpy - INFO - Chain [1] start processing\n"
     ]
    },
    {
     "name": "stdout",
     "output_type": "stream",
     "text": [
      "additive 0.001 1 23.978490562811995\n"
     ]
    },
    {
     "name": "stderr",
     "output_type": "stream",
     "text": [
      "22:00:14 - cmdstanpy - INFO - Chain [1] done processing\n",
      "22:00:15 - cmdstanpy - INFO - Chain [1] start processing\n"
     ]
    },
    {
     "name": "stdout",
     "output_type": "stream",
     "text": [
      "additive 0.001 10 24.135878963994905\n"
     ]
    },
    {
     "name": "stderr",
     "output_type": "stream",
     "text": [
      "22:00:15 - cmdstanpy - INFO - Chain [1] done processing\n",
      "22:00:17 - cmdstanpy - INFO - Chain [1] start processing\n"
     ]
    },
    {
     "name": "stdout",
     "output_type": "stream",
     "text": [
      "additive 0.001 30 24.667910945202316\n"
     ]
    },
    {
     "name": "stderr",
     "output_type": "stream",
     "text": [
      "22:00:18 - cmdstanpy - INFO - Chain [1] done processing\n",
      "22:00:19 - cmdstanpy - INFO - Chain [1] start processing\n"
     ]
    },
    {
     "name": "stdout",
     "output_type": "stream",
     "text": [
      "additive 0.01 1 7.19593782391284\n"
     ]
    },
    {
     "name": "stderr",
     "output_type": "stream",
     "text": [
      "22:00:20 - cmdstanpy - INFO - Chain [1] done processing\n",
      "22:00:22 - cmdstanpy - INFO - Chain [1] start processing\n"
     ]
    },
    {
     "name": "stdout",
     "output_type": "stream",
     "text": [
      "additive 0.01 10 6.921349693901905\n"
     ]
    },
    {
     "name": "stderr",
     "output_type": "stream",
     "text": [
      "22:00:22 - cmdstanpy - INFO - Chain [1] done processing\n",
      "22:00:24 - cmdstanpy - INFO - Chain [1] start processing\n"
     ]
    },
    {
     "name": "stdout",
     "output_type": "stream",
     "text": [
      "additive 0.01 30 7.351066352078412\n"
     ]
    },
    {
     "name": "stderr",
     "output_type": "stream",
     "text": [
      "22:00:25 - cmdstanpy - INFO - Chain [1] done processing\n",
      "22:00:27 - cmdstanpy - INFO - Chain [1] start processing\n"
     ]
    },
    {
     "name": "stdout",
     "output_type": "stream",
     "text": [
      "additive 0.05 1 24.383946079777427\n"
     ]
    },
    {
     "name": "stderr",
     "output_type": "stream",
     "text": [
      "22:00:28 - cmdstanpy - INFO - Chain [1] done processing\n",
      "22:00:30 - cmdstanpy - INFO - Chain [1] start processing\n"
     ]
    },
    {
     "name": "stdout",
     "output_type": "stream",
     "text": [
      "additive 0.05 10 24.396802157327\n"
     ]
    },
    {
     "name": "stderr",
     "output_type": "stream",
     "text": [
      "22:00:31 - cmdstanpy - INFO - Chain [1] done processing\n",
      "22:00:33 - cmdstanpy - INFO - Chain [1] start processing\n"
     ]
    },
    {
     "name": "stdout",
     "output_type": "stream",
     "text": [
      "additive 0.05 30 24.164197824147323\n"
     ]
    },
    {
     "name": "stderr",
     "output_type": "stream",
     "text": [
      "22:00:33 - cmdstanpy - INFO - Chain [1] done processing\n",
      "22:00:34 - cmdstanpy - INFO - Chain [1] start processing\n"
     ]
    },
    {
     "name": "stdout",
     "output_type": "stream",
     "text": [
      "multiplicative 0.001 1 25.256241761659435\n"
     ]
    },
    {
     "name": "stderr",
     "output_type": "stream",
     "text": [
      "22:00:35 - cmdstanpy - INFO - Chain [1] done processing\n",
      "22:00:36 - cmdstanpy - INFO - Chain [1] start processing\n"
     ]
    },
    {
     "name": "stdout",
     "output_type": "stream",
     "text": [
      "multiplicative 0.001 10 25.037439345374768\n"
     ]
    },
    {
     "name": "stderr",
     "output_type": "stream",
     "text": [
      "22:00:37 - cmdstanpy - INFO - Chain [1] done processing\n",
      "22:00:38 - cmdstanpy - INFO - Chain [1] start processing\n"
     ]
    },
    {
     "name": "stdout",
     "output_type": "stream",
     "text": [
      "multiplicative 0.001 30 25.07916258152836\n"
     ]
    },
    {
     "name": "stderr",
     "output_type": "stream",
     "text": [
      "22:00:39 - cmdstanpy - INFO - Chain [1] done processing\n",
      "22:00:41 - cmdstanpy - INFO - Chain [1] start processing\n"
     ]
    },
    {
     "name": "stdout",
     "output_type": "stream",
     "text": [
      "multiplicative 0.01 1 6.97614419937513\n"
     ]
    },
    {
     "name": "stderr",
     "output_type": "stream",
     "text": [
      "22:00:41 - cmdstanpy - INFO - Chain [1] done processing\n",
      "22:00:43 - cmdstanpy - INFO - Chain [1] start processing\n"
     ]
    },
    {
     "name": "stdout",
     "output_type": "stream",
     "text": [
      "multiplicative 0.01 10 6.397683595589247\n"
     ]
    },
    {
     "name": "stderr",
     "output_type": "stream",
     "text": [
      "22:00:44 - cmdstanpy - INFO - Chain [1] done processing\n",
      "22:00:45 - cmdstanpy - INFO - Chain [1] start processing\n"
     ]
    },
    {
     "name": "stdout",
     "output_type": "stream",
     "text": [
      "multiplicative 0.01 30 6.645875165853968\n"
     ]
    },
    {
     "name": "stderr",
     "output_type": "stream",
     "text": [
      "22:00:46 - cmdstanpy - INFO - Chain [1] done processing\n",
      "22:00:48 - cmdstanpy - INFO - Chain [1] start processing\n"
     ]
    },
    {
     "name": "stdout",
     "output_type": "stream",
     "text": [
      "multiplicative 0.05 1 24.123297489357483\n"
     ]
    },
    {
     "name": "stderr",
     "output_type": "stream",
     "text": [
      "22:00:49 - cmdstanpy - INFO - Chain [1] done processing\n",
      "22:00:51 - cmdstanpy - INFO - Chain [1] start processing\n"
     ]
    },
    {
     "name": "stdout",
     "output_type": "stream",
     "text": [
      "multiplicative 0.05 10 23.86577969633217\n"
     ]
    },
    {
     "name": "stderr",
     "output_type": "stream",
     "text": [
      "22:00:52 - cmdstanpy - INFO - Chain [1] done processing\n"
     ]
    },
    {
     "name": "stdout",
     "output_type": "stream",
     "text": [
      "multiplicative 0.05 30 24.44233674949205\n"
     ]
    }
   ],
   "source": [
    "for mode in param_grid['seasonality_mode']:\n",
    "    for cps in param_grid['changepoint_prior_scale']:\n",
    "        for sps in param_grid['seasonality_prior_scale']:\n",
    "            # Create a model with the current hyperparameters\n",
    "            model = Prophet(seasonality_mode=mode, \n",
    "                            changepoint_prior_scale=cps, \n",
    "                            seasonality_prior_scale=sps, \n",
    "                            )\n",
    "            model.fit(train)\n",
    "\n",
    "            # Evaluate the model using Mean Squared Error (MSE) and cross validation\n",
    "            # df_cv = cross_validation(model, initial='4783 days', period='30 days', horizon='1 days')\n",
    "            # score = mean_squared_error(df_cv['y'], df_cv['yhat'])\n",
    "            future = model.make_future_dataframe(periods=train_size)\n",
    "            forecast = model.predict(future)\n",
    "            y_true = test['y'].values\n",
    "            y_pred = forecast['yhat'].values[-len(test):]\n",
    "            score = mean_squared_error(y_true, y_pred)\n",
    "            print(mode, cps, sps, score)\n",
    "\n",
    "            # Update best parameters\n",
    "            if score < best_score:\n",
    "                best_score = score\n",
    "                best_params = {\n",
    "                    'seasonality_mode': mode,\n",
    "                    'changepoint_prior_scale': cps,\n",
    "                    'seasonality_prior_scale': sps\n",
    "                }"
   ]
  },
  {
   "cell_type": "code",
   "execution_count": 10,
   "metadata": {},
   "outputs": [
    {
     "data": {
      "text/plain": [
       "{'seasonality_mode': 'multiplicative',\n",
       " 'changepoint_prior_scale': 0.01,\n",
       " 'seasonality_prior_scale': 10}"
      ]
     },
     "execution_count": 10,
     "metadata": {},
     "output_type": "execute_result"
    }
   ],
   "source": [
    "best_params"
   ]
  },
  {
   "cell_type": "code",
   "execution_count": 11,
   "metadata": {},
   "outputs": [
    {
     "name": "stderr",
     "output_type": "stream",
     "text": [
      "22:00:54 - cmdstanpy - INFO - Chain [1] start processing\n",
      "22:00:54 - cmdstanpy - INFO - Chain [1] done processing\n"
     ]
    },
    {
     "data": {
      "text/plain": [
       "<prophet.forecaster.Prophet at 0x161375b50>"
      ]
     },
     "execution_count": 11,
     "metadata": {},
     "output_type": "execute_result"
    }
   ],
   "source": [
    "best_model = Prophet(**best_params)\n",
    "best_model.fit(train)"
   ]
  },
  {
   "cell_type": "code",
   "execution_count": 12,
   "metadata": {},
   "outputs": [],
   "source": [
    "future = best_model.make_future_dataframe(periods=train_size)\n",
    "forecast = best_model.predict(future)\n"
   ]
  },
  {
   "cell_type": "code",
   "execution_count": 13,
   "metadata": {},
   "outputs": [],
   "source": [
    "y_true = test['y'].values\n",
    "y_pred = forecast['yhat'].values[-len(test):]"
   ]
  },
  {
   "cell_type": "code",
   "execution_count": 14,
   "metadata": {},
   "outputs": [
    {
     "data": {
      "text/plain": [
       "6.397683595589247"
      ]
     },
     "execution_count": 14,
     "metadata": {},
     "output_type": "execute_result"
    }
   ],
   "source": [
    "mse = mean_squared_error(y_true, y_pred)\n",
    "mse"
   ]
  },
  {
   "cell_type": "code",
   "execution_count": 15,
   "metadata": {},
   "outputs": [
    {
     "data": {
      "image/png": "[encoded data removed]",
      "text/plain": [
       "<Figure size 1600x800 with 1 Axes>"
      ]
     },
     "metadata": {},
     "output_type": "display_data"
    }
   ],
   "source": [
    "plt.figure(figsize=(16,8))\n",
    "plt.plot(data['ds'], data['y'], label='Actual', color='blue')\n",
    "plt.plot(forecast['ds'][:len(data)], forecast['yhat'][:len(data)], label='Forecast', color='red')\n",
    "plt.legend()\n",
    "plt.show()"
   ]
  },
  {
   "cell_type": "markdown",
   "metadata": {},
   "source": [
    "KRW-KZT"
   ]
  },
  {
   "cell_type": "code",
   "execution_count": 16,
   "metadata": {},
   "outputs": [
    {
     "data": {
      "text/html": [
       "<div>\n",
       "<style scoped>\n",
       "    .dataframe tbody tr th:only-of-type {\n",
       "        vertical-align: middle;\n",
       "    }\n",
       "\n",
       "    .dataframe tbody tr th {\n",
       "        vertical-align: top;\n",
       "    }\n",
       "\n",
       "    .dataframe thead th {\n",
       "        text-align: right;\n",
       "    }\n",
       "</style>\n",
       "<table border=\"1\" class=\"dataframe\">\n",
       "  <thead>\n",
       "    <tr style=\"text-align: right;\">\n",
       "      <th></th>\n",
       "      <th>ds</th>\n",
       "      <th>y</th>\n",
       "    </tr>\n",
       "  </thead>\n",
       "  <tbody>\n",
       "    <tr>\n",
       "      <th>0</th>\n",
       "      <td>2004-01-02</td>\n",
       "      <td>0.115789</td>\n",
       "    </tr>\n",
       "    <tr>\n",
       "      <th>1</th>\n",
       "      <td>2004-01-05</td>\n",
       "      <td>0.114777</td>\n",
       "    </tr>\n",
       "    <tr>\n",
       "      <th>2</th>\n",
       "      <td>2004-01-06</td>\n",
       "      <td>0.115528</td>\n",
       "    </tr>\n",
       "    <tr>\n",
       "      <th>3</th>\n",
       "      <td>2004-01-07</td>\n",
       "      <td>0.114479</td>\n",
       "    </tr>\n",
       "    <tr>\n",
       "      <th>4</th>\n",
       "      <td>2004-01-08</td>\n",
       "      <td>0.115056</td>\n",
       "    </tr>\n",
       "    <tr>\n",
       "      <th>...</th>\n",
       "      <td>...</td>\n",
       "      <td>...</td>\n",
       "    </tr>\n",
       "    <tr>\n",
       "      <th>5949</th>\n",
       "      <td>2023-10-27</td>\n",
       "      <td>0.346066</td>\n",
       "    </tr>\n",
       "    <tr>\n",
       "      <th>5950</th>\n",
       "      <td>2023-10-28</td>\n",
       "      <td>0.346054</td>\n",
       "    </tr>\n",
       "    <tr>\n",
       "      <th>5951</th>\n",
       "      <td>2023-10-29</td>\n",
       "      <td>0.346054</td>\n",
       "    </tr>\n",
       "    <tr>\n",
       "      <th>5952</th>\n",
       "      <td>2023-10-30</td>\n",
       "      <td>0.349440</td>\n",
       "    </tr>\n",
       "    <tr>\n",
       "      <th>5953</th>\n",
       "      <td>2023-10-31</td>\n",
       "      <td>0.346861</td>\n",
       "    </tr>\n",
       "  </tbody>\n",
       "</table>\n",
       "<p>5954 rows × 2 columns</p>\n",
       "</div>"
      ],
      "text/plain": [
       "             ds         y\n",
       "0    2004-01-02  0.115789\n",
       "1    2004-01-05  0.114777\n",
       "2    2004-01-06  0.115528\n",
       "3    2004-01-07  0.114479\n",
       "4    2004-01-08  0.115056\n",
       "...         ...       ...\n",
       "5949 2023-10-27  0.346066\n",
       "5950 2023-10-28  0.346054\n",
       "5951 2023-10-29  0.346054\n",
       "5952 2023-10-30  0.349440\n",
       "5953 2023-10-31  0.346861\n",
       "\n",
       "[5954 rows x 2 columns]"
      ]
     },
     "execution_count": 16,
     "metadata": {},
     "output_type": "execute_result"
    }
   ],
   "source": [
    "data = pd.read_csv(\"preprocessed-data/krwkzt.csv\")\n",
    "data.rename(columns={'Date': 'ds', 'Close':'y'}, inplace=True)\n",
    "data[\"ds\"] = pd.to_datetime(data[\"ds\"])\n",
    "data"
   ]
  },
  {
   "cell_type": "code",
   "execution_count": 17,
   "metadata": {},
   "outputs": [
    {
     "name": "stdout",
     "output_type": "stream",
     "text": [
      "4763 1191\n"
     ]
    }
   ],
   "source": [
    "train_size = int(len(data) * 0.8)\n",
    "test_size = len(data) - train_size\n",
    "train, test = data.iloc[0:train_size], data.iloc[train_size:len(data)]\n",
    "print(len(train), len(test))"
   ]
  },
  {
   "cell_type": "code",
   "execution_count": 18,
   "metadata": {},
   "outputs": [],
   "source": [
    "best_params = {}\n",
    "best_score = float('inf')"
   ]
  },
  {
   "cell_type": "code",
   "execution_count": 19,
   "metadata": {},
   "outputs": [
    {
     "name": "stderr",
     "output_type": "stream",
     "text": [
      "22:00:56 - cmdstanpy - INFO - Chain [1] start processing\n",
      "22:00:56 - cmdstanpy - INFO - Chain [1] done processing\n",
      "22:00:58 - cmdstanpy - INFO - Chain [1] start processing\n"
     ]
    },
    {
     "name": "stdout",
     "output_type": "stream",
     "text": [
      "additive 0.001 1 0.12462707230098484\n"
     ]
    },
    {
     "name": "stderr",
     "output_type": "stream",
     "text": [
      "22:00:58 - cmdstanpy - INFO - Chain [1] done processing\n",
      "22:01:00 - cmdstanpy - INFO - Chain [1] start processing\n"
     ]
    },
    {
     "name": "stdout",
     "output_type": "stream",
     "text": [
      "additive 0.001 10 0.12370750872509471\n"
     ]
    },
    {
     "name": "stderr",
     "output_type": "stream",
     "text": [
      "22:01:00 - cmdstanpy - INFO - Chain [1] done processing\n",
      "22:01:01 - cmdstanpy - INFO - Chain [1] start processing\n"
     ]
    },
    {
     "name": "stdout",
     "output_type": "stream",
     "text": [
      "additive 0.001 30 0.1238324492900399\n"
     ]
    },
    {
     "name": "stderr",
     "output_type": "stream",
     "text": [
      "22:01:02 - cmdstanpy - INFO - Chain [1] done processing\n",
      "22:01:04 - cmdstanpy - INFO - Chain [1] start processing\n"
     ]
    },
    {
     "name": "stdout",
     "output_type": "stream",
     "text": [
      "additive 0.01 1 0.02746955011865219\n"
     ]
    },
    {
     "name": "stderr",
     "output_type": "stream",
     "text": [
      "22:01:06 - cmdstanpy - INFO - Chain [1] done processing\n",
      "22:01:07 - cmdstanpy - INFO - Chain [1] start processing\n"
     ]
    },
    {
     "name": "stdout",
     "output_type": "stream",
     "text": [
      "additive 0.01 10 0.027240594443712983\n"
     ]
    },
    {
     "name": "stderr",
     "output_type": "stream",
     "text": [
      "22:01:08 - cmdstanpy - INFO - Chain [1] done processing\n",
      "22:01:09 - cmdstanpy - INFO - Chain [1] start processing\n"
     ]
    },
    {
     "name": "stdout",
     "output_type": "stream",
     "text": [
      "additive 0.01 30 0.025589319067898148\n"
     ]
    },
    {
     "name": "stderr",
     "output_type": "stream",
     "text": [
      "22:01:11 - cmdstanpy - INFO - Chain [1] done processing\n",
      "22:01:13 - cmdstanpy - INFO - Chain [1] start processing\n"
     ]
    },
    {
     "name": "stdout",
     "output_type": "stream",
     "text": [
      "additive 0.05 1 0.02625292159565444\n"
     ]
    },
    {
     "name": "stderr",
     "output_type": "stream",
     "text": [
      "22:01:14 - cmdstanpy - INFO - Chain [1] done processing\n",
      "22:01:15 - cmdstanpy - INFO - Chain [1] start processing\n"
     ]
    },
    {
     "name": "stdout",
     "output_type": "stream",
     "text": [
      "additive 0.05 10 0.025975073578672236\n"
     ]
    },
    {
     "name": "stderr",
     "output_type": "stream",
     "text": [
      "22:01:17 - cmdstanpy - INFO - Chain [1] done processing\n",
      "22:01:18 - cmdstanpy - INFO - Chain [1] start processing\n"
     ]
    },
    {
     "name": "stdout",
     "output_type": "stream",
     "text": [
      "additive 0.05 30 0.026299486750242327\n"
     ]
    },
    {
     "name": "stderr",
     "output_type": "stream",
     "text": [
      "22:01:19 - cmdstanpy - INFO - Chain [1] done processing\n",
      "22:01:20 - cmdstanpy - INFO - Chain [1] start processing\n"
     ]
    },
    {
     "name": "stdout",
     "output_type": "stream",
     "text": [
      "multiplicative 0.001 1 0.12459048969832062\n"
     ]
    },
    {
     "name": "stderr",
     "output_type": "stream",
     "text": [
      "22:01:20 - cmdstanpy - INFO - Chain [1] done processing\n",
      "22:01:22 - cmdstanpy - INFO - Chain [1] start processing\n"
     ]
    },
    {
     "name": "stdout",
     "output_type": "stream",
     "text": [
      "multiplicative 0.001 10 0.1246740772839498\n"
     ]
    },
    {
     "name": "stderr",
     "output_type": "stream",
     "text": [
      "22:01:22 - cmdstanpy - INFO - Chain [1] done processing\n",
      "22:01:24 - cmdstanpy - INFO - Chain [1] start processing\n"
     ]
    },
    {
     "name": "stdout",
     "output_type": "stream",
     "text": [
      "multiplicative 0.001 30 0.12252321479196518\n"
     ]
    },
    {
     "name": "stderr",
     "output_type": "stream",
     "text": [
      "22:01:25 - cmdstanpy - INFO - Chain [1] done processing\n",
      "22:01:26 - cmdstanpy - INFO - Chain [1] start processing\n"
     ]
    },
    {
     "name": "stdout",
     "output_type": "stream",
     "text": [
      "multiplicative 0.01 1 0.028978317530237614\n"
     ]
    },
    {
     "name": "stderr",
     "output_type": "stream",
     "text": [
      "22:01:28 - cmdstanpy - INFO - Chain [1] done processing\n",
      "22:01:30 - cmdstanpy - INFO - Chain [1] start processing\n"
     ]
    },
    {
     "name": "stdout",
     "output_type": "stream",
     "text": [
      "multiplicative 0.01 10 0.028308572257823184\n"
     ]
    },
    {
     "name": "stderr",
     "output_type": "stream",
     "text": [
      "22:01:32 - cmdstanpy - INFO - Chain [1] done processing\n",
      "22:01:33 - cmdstanpy - INFO - Chain [1] start processing\n"
     ]
    },
    {
     "name": "stdout",
     "output_type": "stream",
     "text": [
      "multiplicative 0.01 30 0.028140312760368047\n"
     ]
    },
    {
     "name": "stderr",
     "output_type": "stream",
     "text": [
      "22:01:35 - cmdstanpy - INFO - Chain [1] done processing\n",
      "22:01:36 - cmdstanpy - INFO - Chain [1] start processing\n"
     ]
    },
    {
     "name": "stdout",
     "output_type": "stream",
     "text": [
      "multiplicative 0.05 1 0.026640208198754976\n"
     ]
    },
    {
     "name": "stderr",
     "output_type": "stream",
     "text": [
      "22:01:38 - cmdstanpy - INFO - Chain [1] done processing\n",
      "22:01:39 - cmdstanpy - INFO - Chain [1] start processing\n"
     ]
    },
    {
     "name": "stdout",
     "output_type": "stream",
     "text": [
      "multiplicative 0.05 10 0.026831446485622603\n"
     ]
    },
    {
     "name": "stderr",
     "output_type": "stream",
     "text": [
      "22:01:41 - cmdstanpy - INFO - Chain [1] done processing\n"
     ]
    },
    {
     "name": "stdout",
     "output_type": "stream",
     "text": [
      "multiplicative 0.05 30 0.026748701349673512\n"
     ]
    }
   ],
   "source": [
    "for mode in param_grid['seasonality_mode']:\n",
    "    for cps in param_grid['changepoint_prior_scale']:\n",
    "        for sps in param_grid['seasonality_prior_scale']:\n",
    "            # Create a model with the current hyperparameters\n",
    "            model = Prophet(seasonality_mode=mode, \n",
    "                            changepoint_prior_scale=cps, \n",
    "                            seasonality_prior_scale=sps, \n",
    "                            )\n",
    "            model.fit(train)\n",
    "\n",
    "            # Evaluate the model using Mean Squared Error (MSE) and cross validation\n",
    "            # df_cv = cross_validation(model, initial='4783 days', period='30 days', horizon='1 days')\n",
    "            # score = mean_squared_error(df_cv['y'], df_cv['yhat'])\n",
    "            future = model.make_future_dataframe(periods=train_size)\n",
    "            forecast = model.predict(future)\n",
    "            y_true = test['y'].values\n",
    "            y_pred = forecast['yhat'].values[-len(test):]\n",
    "            score = mean_squared_error(y_true, y_pred)\n",
    "            print(mode, cps, sps, score)\n",
    "\n",
    "            # Update best parameters\n",
    "            if score < best_score:\n",
    "                best_score = score\n",
    "                best_params = {\n",
    "                    'seasonality_mode': mode,\n",
    "                    'changepoint_prior_scale': cps,\n",
    "                    'seasonality_prior_scale': sps\n",
    "                }"
   ]
  },
  {
   "cell_type": "code",
   "execution_count": 20,
   "metadata": {},
   "outputs": [
    {
     "data": {
      "text/plain": [
       "{'seasonality_mode': 'additive',\n",
       " 'changepoint_prior_scale': 0.01,\n",
       " 'seasonality_prior_scale': 30}"
      ]
     },
     "execution_count": 20,
     "metadata": {},
     "output_type": "execute_result"
    }
   ],
   "source": [
    "best_params"
   ]
  },
  {
   "cell_type": "code",
   "execution_count": 21,
   "metadata": {},
   "outputs": [
    {
     "name": "stderr",
     "output_type": "stream",
     "text": [
      "22:01:42 - cmdstanpy - INFO - Chain [1] start processing\n",
      "22:01:43 - cmdstanpy - INFO - Chain [1] done processing\n"
     ]
    },
    {
     "data": {
      "text/plain": [
       "<prophet.forecaster.Prophet at 0x16165f590>"
      ]
     },
     "execution_count": 21,
     "metadata": {},
     "output_type": "execute_result"
    }
   ],
   "source": [
    "best_model = Prophet(**best_params)\n",
    "best_model.fit(train)"
   ]
  },
  {
   "cell_type": "code",
   "execution_count": 22,
   "metadata": {},
   "outputs": [],
   "source": [
    "future = best_model.make_future_dataframe(periods=train_size)\n",
    "forecast = best_model.predict(future)\n"
   ]
  },
  {
   "cell_type": "code",
   "execution_count": 23,
   "metadata": {},
   "outputs": [],
   "source": [
    "y_true = test['y'].values\n",
    "y_pred = forecast['yhat'].values[-len(test):]"
   ]
  },
  {
   "cell_type": "code",
   "execution_count": 24,
   "metadata": {},
   "outputs": [
    {
     "data": {
      "text/plain": [
       "0.025589319067898148"
      ]
     },
     "execution_count": 24,
     "metadata": {},
     "output_type": "execute_result"
    }
   ],
   "source": [
    "mse = mean_squared_error(y_true, y_pred)\n",
    "mse"
   ]
  },
  {
   "cell_type": "code",
   "execution_count": 25,
   "metadata": {},
   "outputs": [
    {
     "data": {
      "image/png": "[encoded data removed]",
      "text/plain": [
       "<Figure size 1600x800 with 1 Axes>"
      ]
     },
     "metadata": {},
     "output_type": "display_data"
    }
   ],
   "source": [
    "plt.figure(figsize=(16,8))\n",
    "plt.plot(data['ds'], data['y'], label='Actual', color='blue')\n",
    "plt.plot(forecast['ds'][:len(data)], forecast['yhat'][:len(data)], label='Forecast', color='red')\n",
    "plt.legend()\n",
    "plt.show()"
   ]
  },
  {
   "cell_type": "code",
   "execution_count": null,
   "metadata": {},
   "outputs": [],
   "source": []
  }
 ],
 "metadata": {
  "kernelspec": {
   "display_name": "Python 3",
   "language": "python",
   "name": "python3"
  },
  "language_info": {
   "codemirror_mode": {
    "name": "ipython",
    "version": 3
   },
   "file_extension": ".py",
   "mimetype": "text/x-python",
   "name": "python",
   "nbconvert_exporter": "python",
   "pygments_lexer": "ipython3",
   "version": "3.11.4"
  }
 },
 "nbformat": 4,
 "nbformat_minor": 2
}
