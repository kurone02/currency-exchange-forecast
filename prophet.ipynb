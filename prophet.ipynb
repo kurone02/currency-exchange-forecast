{
 "cells": [
  {
   "cell_type": "code",
   "execution_count": 1,
   "metadata": {},
   "outputs": [],
   "source": [
    "import numpy as np\n",
    "import pandas as pd\n",
    "import matplotlib.pyplot as plt"
   ]
  },
  {
   "cell_type": "code",
   "execution_count": 2,
   "metadata": {},
   "outputs": [
    {
     "name": "stderr",
     "output_type": "stream",
     "text": [
      "/opt/homebrew/lib/python3.11/site-packages/tqdm/auto.py:21: TqdmWarning: IProgress not found. Please update jupyter and ipywidgets. See https://ipywidgets.readthedocs.io/en/stable/user_install.html\n",
      "  from .autonotebook import tqdm as notebook_tqdm\n",
      "Importing plotly failed. Interactive plots will not work.\n"
     ]
    }
   ],
   "source": [
    "from prophet import Prophet\n",
    "from prophet.diagnostics import cross_validation\n",
    "from sklearn.preprocessing import MinMaxScaler\n",
    "from sklearn.metrics import mean_squared_error"
   ]
  },
  {
   "cell_type": "code",
   "execution_count": 3,
   "metadata": {},
   "outputs": [
    {
     "data": {
      "text/html": [
       "<div>\n",
       "<style scoped>\n",
       "    .dataframe tbody tr th:only-of-type {\n",
       "        vertical-align: middle;\n",
       "    }\n",
       "\n",
       "    .dataframe tbody tr th {\n",
       "        vertical-align: top;\n",
       "    }\n",
       "\n",
       "    .dataframe thead th {\n",
       "        text-align: right;\n",
       "    }\n",
       "</style>\n",
       "<table border=\"1\" class=\"dataframe\">\n",
       "  <thead>\n",
       "    <tr style=\"text-align: right;\">\n",
       "      <th></th>\n",
       "      <th>ds</th>\n",
       "      <th>y</th>\n",
       "    </tr>\n",
       "  </thead>\n",
       "  <tbody>\n",
       "    <tr>\n",
       "      <th>0</th>\n",
       "      <td>2004-01-02</td>\n",
       "      <td>0.115789</td>\n",
       "    </tr>\n",
       "    <tr>\n",
       "      <th>1</th>\n",
       "      <td>2004-01-05</td>\n",
       "      <td>0.114777</td>\n",
       "    </tr>\n",
       "    <tr>\n",
       "      <th>2</th>\n",
       "      <td>2004-01-06</td>\n",
       "      <td>0.115528</td>\n",
       "    </tr>\n",
       "    <tr>\n",
       "      <th>3</th>\n",
       "      <td>2004-01-07</td>\n",
       "      <td>0.114479</td>\n",
       "    </tr>\n",
       "    <tr>\n",
       "      <th>4</th>\n",
       "      <td>2004-01-08</td>\n",
       "      <td>0.115056</td>\n",
       "    </tr>\n",
       "    <tr>\n",
       "      <th>...</th>\n",
       "      <td>...</td>\n",
       "      <td>...</td>\n",
       "    </tr>\n",
       "    <tr>\n",
       "      <th>5949</th>\n",
       "      <td>2023-10-27</td>\n",
       "      <td>0.346066</td>\n",
       "    </tr>\n",
       "    <tr>\n",
       "      <th>5950</th>\n",
       "      <td>2023-10-28</td>\n",
       "      <td>0.346054</td>\n",
       "    </tr>\n",
       "    <tr>\n",
       "      <th>5951</th>\n",
       "      <td>2023-10-29</td>\n",
       "      <td>0.346054</td>\n",
       "    </tr>\n",
       "    <tr>\n",
       "      <th>5952</th>\n",
       "      <td>2023-10-30</td>\n",
       "      <td>0.349440</td>\n",
       "    </tr>\n",
       "    <tr>\n",
       "      <th>5953</th>\n",
       "      <td>2023-10-31</td>\n",
       "      <td>0.346861</td>\n",
       "    </tr>\n",
       "  </tbody>\n",
       "</table>\n",
       "<p>5954 rows × 2 columns</p>\n",
       "</div>"
      ],
      "text/plain": [
       "             ds         y\n",
       "0    2004-01-02  0.115789\n",
       "1    2004-01-05  0.114777\n",
       "2    2004-01-06  0.115528\n",
       "3    2004-01-07  0.114479\n",
       "4    2004-01-08  0.115056\n",
       "...         ...       ...\n",
       "5949 2023-10-27  0.346066\n",
       "5950 2023-10-28  0.346054\n",
       "5951 2023-10-29  0.346054\n",
       "5952 2023-10-30  0.349440\n",
       "5953 2023-10-31  0.346861\n",
       "\n",
       "[5954 rows x 2 columns]"
      ]
     },
     "execution_count": 3,
     "metadata": {},
     "output_type": "execute_result"
    }
   ],
   "source": [
    "data = pd.read_csv(\"preprocessed-data/krwkzt.csv\")\n",
    "data.rename(columns={'Date': 'ds', 'Close':'y'}, inplace=True)\n",
    "data[\"ds\"] = pd.to_datetime(data[\"ds\"])\n",
    "data"
   ]
  },
  {
   "cell_type": "code",
   "execution_count": 4,
   "metadata": {},
   "outputs": [
    {
     "data": {
      "text/html": [
       "<div>\n",
       "<style scoped>\n",
       "    .dataframe tbody tr th:only-of-type {\n",
       "        vertical-align: middle;\n",
       "    }\n",
       "\n",
       "    .dataframe tbody tr th {\n",
       "        vertical-align: top;\n",
       "    }\n",
       "\n",
       "    .dataframe thead th {\n",
       "        text-align: right;\n",
       "    }\n",
       "</style>\n",
       "<table border=\"1\" class=\"dataframe\">\n",
       "  <thead>\n",
       "    <tr style=\"text-align: right;\">\n",
       "      <th></th>\n",
       "      <th>ds</th>\n",
       "      <th>y</th>\n",
       "    </tr>\n",
       "  </thead>\n",
       "  <tbody>\n",
       "    <tr>\n",
       "      <th>0</th>\n",
       "      <td>2004-01-02</td>\n",
       "      <td>0.047191</td>\n",
       "    </tr>\n",
       "    <tr>\n",
       "      <th>1</th>\n",
       "      <td>2004-01-05</td>\n",
       "      <td>0.044064</td>\n",
       "    </tr>\n",
       "    <tr>\n",
       "      <th>2</th>\n",
       "      <td>2004-01-06</td>\n",
       "      <td>0.046385</td>\n",
       "    </tr>\n",
       "    <tr>\n",
       "      <th>3</th>\n",
       "      <td>2004-01-07</td>\n",
       "      <td>0.043142</td>\n",
       "    </tr>\n",
       "    <tr>\n",
       "      <th>4</th>\n",
       "      <td>2004-01-08</td>\n",
       "      <td>0.044926</td>\n",
       "    </tr>\n",
       "    <tr>\n",
       "      <th>...</th>\n",
       "      <td>...</td>\n",
       "      <td>...</td>\n",
       "    </tr>\n",
       "    <tr>\n",
       "      <th>5949</th>\n",
       "      <td>2023-10-27</td>\n",
       "      <td>0.759132</td>\n",
       "    </tr>\n",
       "    <tr>\n",
       "      <th>5950</th>\n",
       "      <td>2023-10-28</td>\n",
       "      <td>0.759093</td>\n",
       "    </tr>\n",
       "    <tr>\n",
       "      <th>5951</th>\n",
       "      <td>2023-10-29</td>\n",
       "      <td>0.759093</td>\n",
       "    </tr>\n",
       "    <tr>\n",
       "      <th>5952</th>\n",
       "      <td>2023-10-30</td>\n",
       "      <td>0.769562</td>\n",
       "    </tr>\n",
       "    <tr>\n",
       "      <th>5953</th>\n",
       "      <td>2023-10-31</td>\n",
       "      <td>0.761589</td>\n",
       "    </tr>\n",
       "  </tbody>\n",
       "</table>\n",
       "<p>5954 rows × 2 columns</p>\n",
       "</div>"
      ],
      "text/plain": [
       "             ds         y\n",
       "0    2004-01-02  0.047191\n",
       "1    2004-01-05  0.044064\n",
       "2    2004-01-06  0.046385\n",
       "3    2004-01-07  0.043142\n",
       "4    2004-01-08  0.044926\n",
       "...         ...       ...\n",
       "5949 2023-10-27  0.759132\n",
       "5950 2023-10-28  0.759093\n",
       "5951 2023-10-29  0.759093\n",
       "5952 2023-10-30  0.769562\n",
       "5953 2023-10-31  0.761589\n",
       "\n",
       "[5954 rows x 2 columns]"
      ]
     },
     "execution_count": 4,
     "metadata": {},
     "output_type": "execute_result"
    }
   ],
   "source": [
    "scaler = MinMaxScaler(feature_range=(0, 1))\n",
    "data[['y']] = scaler.fit_transform(data[['y']])\n",
    "data"
   ]
  },
  {
   "cell_type": "code",
   "execution_count": 5,
   "metadata": {},
   "outputs": [],
   "source": [
    "# context_length = 96\n",
    "# for i in range(context_length):\n",
    "#     data[f'y_lag_{i}'] = data['y'].shift(i)\n",
    "# data = data.dropna()"
   ]
  },
  {
   "cell_type": "code",
   "execution_count": 6,
   "metadata": {},
   "outputs": [
    {
     "name": "stdout",
     "output_type": "stream",
     "text": [
      "4763 1191\n"
     ]
    }
   ],
   "source": [
    "train_size = int(len(data) * 0.8)\n",
    "test_size = len(data) - train_size\n",
    "train, test = data.iloc[0:train_size], data.iloc[train_size:len(data)]\n",
    "print(len(train), len(test))"
   ]
  },
  {
   "cell_type": "code",
   "execution_count": 7,
   "metadata": {},
   "outputs": [],
   "source": [
    "param_grid = {\n",
    "    'seasonality_mode': ['additive', 'multiplicative'], #['additive', 'multiplicative']\n",
    "    'changepoint_prior_scale': [0.001, 0.01, 0.1, 0.5], #[0.01, 0.1, 0.5]\n",
    "    'seasonality_prior_scale': [0.01, 0.1, 1.0, 10.0], #[1, 10, 30]\n",
    "}\n"
   ]
  },
  {
   "cell_type": "code",
   "execution_count": 8,
   "metadata": {},
   "outputs": [],
   "source": [
    "best_params = {}\n",
    "best_score = float('inf')"
   ]
  },
  {
   "cell_type": "code",
   "execution_count": 9,
   "metadata": {},
   "outputs": [
    {
     "name": "stderr",
     "output_type": "stream",
     "text": [
      "18:54:18 - cmdstanpy - INFO - Chain [1] start processing\n",
      "18:54:18 - cmdstanpy - INFO - Chain [1] done processing\n",
      "18:54:20 - cmdstanpy - INFO - Chain [1] start processing\n"
     ]
    },
    {
     "name": "stdout",
     "output_type": "stream",
     "text": [
      "additive 0.001 0.01 1.1621353797342724\n"
     ]
    },
    {
     "name": "stderr",
     "output_type": "stream",
     "text": [
      "18:54:20 - cmdstanpy - INFO - Chain [1] done processing\n",
      "18:54:22 - cmdstanpy - INFO - Chain [1] start processing\n"
     ]
    },
    {
     "name": "stdout",
     "output_type": "stream",
     "text": [
      "additive 0.001 0.1 1.1654238660946579\n"
     ]
    },
    {
     "name": "stderr",
     "output_type": "stream",
     "text": [
      "18:54:22 - cmdstanpy - INFO - Chain [1] done processing\n",
      "18:54:23 - cmdstanpy - INFO - Chain [1] start processing\n"
     ]
    },
    {
     "name": "stdout",
     "output_type": "stream",
     "text": [
      "additive 0.001 1.0 1.1329179316520022\n"
     ]
    },
    {
     "name": "stderr",
     "output_type": "stream",
     "text": [
      "18:54:24 - cmdstanpy - INFO - Chain [1] done processing\n",
      "18:54:25 - cmdstanpy - INFO - Chain [1] start processing\n"
     ]
    },
    {
     "name": "stdout",
     "output_type": "stream",
     "text": [
      "additive 0.001 10.0 1.1735818269910252\n"
     ]
    },
    {
     "name": "stderr",
     "output_type": "stream",
     "text": [
      "18:54:26 - cmdstanpy - INFO - Chain [1] done processing\n",
      "18:54:27 - cmdstanpy - INFO - Chain [1] start processing\n"
     ]
    },
    {
     "name": "stdout",
     "output_type": "stream",
     "text": [
      "additive 0.01 0.01 0.22380980014103832\n"
     ]
    },
    {
     "name": "stderr",
     "output_type": "stream",
     "text": [
      "18:54:28 - cmdstanpy - INFO - Chain [1] done processing\n",
      "18:54:29 - cmdstanpy - INFO - Chain [1] start processing\n"
     ]
    },
    {
     "name": "stdout",
     "output_type": "stream",
     "text": [
      "additive 0.01 0.1 0.22480842595964726\n"
     ]
    },
    {
     "name": "stderr",
     "output_type": "stream",
     "text": [
      "18:54:30 - cmdstanpy - INFO - Chain [1] done processing\n",
      "18:54:31 - cmdstanpy - INFO - Chain [1] start processing\n"
     ]
    },
    {
     "name": "stdout",
     "output_type": "stream",
     "text": [
      "additive 0.01 1.0 0.2098090523513434\n"
     ]
    },
    {
     "name": "stderr",
     "output_type": "stream",
     "text": [
      "18:54:31 - cmdstanpy - INFO - Chain [1] done processing\n",
      "18:54:33 - cmdstanpy - INFO - Chain [1] start processing\n"
     ]
    },
    {
     "name": "stdout",
     "output_type": "stream",
     "text": [
      "additive 0.01 10.0 0.2632583792123261\n"
     ]
    },
    {
     "name": "stderr",
     "output_type": "stream",
     "text": [
      "18:54:35 - cmdstanpy - INFO - Chain [1] done processing\n",
      "18:54:36 - cmdstanpy - INFO - Chain [1] start processing\n"
     ]
    },
    {
     "name": "stdout",
     "output_type": "stream",
     "text": [
      "additive 0.1 0.01 0.24702719882231067\n"
     ]
    },
    {
     "name": "stderr",
     "output_type": "stream",
     "text": [
      "18:54:38 - cmdstanpy - INFO - Chain [1] done processing\n",
      "18:54:40 - cmdstanpy - INFO - Chain [1] start processing\n"
     ]
    },
    {
     "name": "stdout",
     "output_type": "stream",
     "text": [
      "additive 0.1 0.1 0.24570595484240973\n"
     ]
    },
    {
     "name": "stderr",
     "output_type": "stream",
     "text": [
      "18:54:41 - cmdstanpy - INFO - Chain [1] done processing\n",
      "18:54:43 - cmdstanpy - INFO - Chain [1] start processing\n"
     ]
    },
    {
     "name": "stdout",
     "output_type": "stream",
     "text": [
      "additive 0.1 1.0 0.24379810859380868\n"
     ]
    },
    {
     "name": "stderr",
     "output_type": "stream",
     "text": [
      "18:54:44 - cmdstanpy - INFO - Chain [1] done processing\n",
      "18:54:46 - cmdstanpy - INFO - Chain [1] start processing\n"
     ]
    },
    {
     "name": "stdout",
     "output_type": "stream",
     "text": [
      "additive 0.1 10.0 0.2455400351835737\n"
     ]
    },
    {
     "name": "stderr",
     "output_type": "stream",
     "text": [
      "18:54:47 - cmdstanpy - INFO - Chain [1] done processing\n",
      "18:54:49 - cmdstanpy - INFO - Chain [1] start processing\n"
     ]
    },
    {
     "name": "stdout",
     "output_type": "stream",
     "text": [
      "additive 0.5 0.01 0.23818978243471817\n"
     ]
    },
    {
     "name": "stderr",
     "output_type": "stream",
     "text": [
      "18:54:51 - cmdstanpy - INFO - Chain [1] done processing\n",
      "18:54:52 - cmdstanpy - INFO - Chain [1] start processing\n"
     ]
    },
    {
     "name": "stdout",
     "output_type": "stream",
     "text": [
      "additive 0.5 0.1 0.2353345324407488\n"
     ]
    },
    {
     "name": "stderr",
     "output_type": "stream",
     "text": [
      "18:54:53 - cmdstanpy - INFO - Chain [1] done processing\n",
      "18:54:55 - cmdstanpy - INFO - Chain [1] start processing\n"
     ]
    },
    {
     "name": "stdout",
     "output_type": "stream",
     "text": [
      "additive 0.5 1.0 0.2354691697028496\n"
     ]
    },
    {
     "name": "stderr",
     "output_type": "stream",
     "text": [
      "18:54:56 - cmdstanpy - INFO - Chain [1] done processing\n",
      "18:54:58 - cmdstanpy - INFO - Chain [1] start processing\n"
     ]
    },
    {
     "name": "stdout",
     "output_type": "stream",
     "text": [
      "additive 0.5 10.0 0.23596408199395796\n"
     ]
    },
    {
     "name": "stderr",
     "output_type": "stream",
     "text": [
      "18:54:58 - cmdstanpy - INFO - Chain [1] done processing\n",
      "18:55:00 - cmdstanpy - INFO - Chain [1] start processing\n"
     ]
    },
    {
     "name": "stdout",
     "output_type": "stream",
     "text": [
      "multiplicative 0.001 0.01 1.1389428465724933\n"
     ]
    },
    {
     "name": "stderr",
     "output_type": "stream",
     "text": [
      "18:55:00 - cmdstanpy - INFO - Chain [1] done processing\n",
      "18:55:01 - cmdstanpy - INFO - Chain [1] start processing\n"
     ]
    },
    {
     "name": "stdout",
     "output_type": "stream",
     "text": [
      "multiplicative 0.001 0.1 1.1257213597592406\n"
     ]
    },
    {
     "name": "stderr",
     "output_type": "stream",
     "text": [
      "18:55:02 - cmdstanpy - INFO - Chain [1] done processing\n",
      "18:55:03 - cmdstanpy - INFO - Chain [1] start processing\n"
     ]
    },
    {
     "name": "stdout",
     "output_type": "stream",
     "text": [
      "multiplicative 0.001 1.0 1.1524800579005832\n"
     ]
    },
    {
     "name": "stderr",
     "output_type": "stream",
     "text": [
      "18:55:03 - cmdstanpy - INFO - Chain [1] done processing\n",
      "18:55:05 - cmdstanpy - INFO - Chain [1] start processing\n"
     ]
    },
    {
     "name": "stdout",
     "output_type": "stream",
     "text": [
      "multiplicative 0.001 10.0 1.1557005688423374\n"
     ]
    },
    {
     "name": "stderr",
     "output_type": "stream",
     "text": [
      "18:55:05 - cmdstanpy - INFO - Chain [1] done processing\n",
      "18:55:07 - cmdstanpy - INFO - Chain [1] start processing\n"
     ]
    },
    {
     "name": "stdout",
     "output_type": "stream",
     "text": [
      "multiplicative 0.01 0.01 0.22247121802450112\n"
     ]
    },
    {
     "name": "stderr",
     "output_type": "stream",
     "text": [
      "18:55:07 - cmdstanpy - INFO - Chain [1] done processing\n",
      "18:55:09 - cmdstanpy - INFO - Chain [1] start processing\n"
     ]
    },
    {
     "name": "stdout",
     "output_type": "stream",
     "text": [
      "multiplicative 0.01 0.1 0.21876163989232594\n"
     ]
    },
    {
     "name": "stderr",
     "output_type": "stream",
     "text": [
      "18:55:09 - cmdstanpy - INFO - Chain [1] done processing\n",
      "18:55:11 - cmdstanpy - INFO - Chain [1] start processing\n"
     ]
    },
    {
     "name": "stdout",
     "output_type": "stream",
     "text": [
      "multiplicative 0.01 1.0 0.21415126720096486\n"
     ]
    },
    {
     "name": "stderr",
     "output_type": "stream",
     "text": [
      "18:55:12 - cmdstanpy - INFO - Chain [1] done processing\n",
      "18:55:13 - cmdstanpy - INFO - Chain [1] start processing\n"
     ]
    },
    {
     "name": "stdout",
     "output_type": "stream",
     "text": [
      "multiplicative 0.01 10.0 0.21532557017840132\n"
     ]
    },
    {
     "name": "stderr",
     "output_type": "stream",
     "text": [
      "18:55:15 - cmdstanpy - INFO - Chain [1] done processing\n",
      "18:55:16 - cmdstanpy - INFO - Chain [1] start processing\n"
     ]
    },
    {
     "name": "stdout",
     "output_type": "stream",
     "text": [
      "multiplicative 0.1 0.01 0.25331897655401137\n"
     ]
    },
    {
     "name": "stderr",
     "output_type": "stream",
     "text": [
      "18:55:19 - cmdstanpy - INFO - Chain [1] done processing\n",
      "18:55:20 - cmdstanpy - INFO - Chain [1] start processing\n"
     ]
    },
    {
     "name": "stdout",
     "output_type": "stream",
     "text": [
      "multiplicative 0.1 0.1 0.2563110844457406\n"
     ]
    },
    {
     "name": "stderr",
     "output_type": "stream",
     "text": [
      "18:55:21 - cmdstanpy - INFO - Chain [1] done processing\n",
      "18:55:23 - cmdstanpy - INFO - Chain [1] start processing\n"
     ]
    },
    {
     "name": "stdout",
     "output_type": "stream",
     "text": [
      "multiplicative 0.1 1.0 0.2542667290273498\n"
     ]
    },
    {
     "name": "stderr",
     "output_type": "stream",
     "text": [
      "18:55:24 - cmdstanpy - INFO - Chain [1] done processing\n",
      "18:55:26 - cmdstanpy - INFO - Chain [1] start processing\n"
     ]
    },
    {
     "name": "stdout",
     "output_type": "stream",
     "text": [
      "multiplicative 0.1 10.0 0.25470277433691524\n"
     ]
    },
    {
     "name": "stderr",
     "output_type": "stream",
     "text": [
      "18:55:27 - cmdstanpy - INFO - Chain [1] done processing\n",
      "18:55:29 - cmdstanpy - INFO - Chain [1] start processing\n"
     ]
    },
    {
     "name": "stdout",
     "output_type": "stream",
     "text": [
      "multiplicative 0.5 0.01 0.2448670980517995\n"
     ]
    },
    {
     "name": "stderr",
     "output_type": "stream",
     "text": [
      "18:55:30 - cmdstanpy - INFO - Chain [1] done processing\n",
      "18:55:32 - cmdstanpy - INFO - Chain [1] start processing\n"
     ]
    },
    {
     "name": "stdout",
     "output_type": "stream",
     "text": [
      "multiplicative 0.5 0.1 0.2437816506997981\n"
     ]
    },
    {
     "name": "stderr",
     "output_type": "stream",
     "text": [
      "18:55:33 - cmdstanpy - INFO - Chain [1] done processing\n",
      "18:55:35 - cmdstanpy - INFO - Chain [1] start processing\n"
     ]
    },
    {
     "name": "stdout",
     "output_type": "stream",
     "text": [
      "multiplicative 0.5 1.0 0.24263184064941556\n"
     ]
    },
    {
     "name": "stderr",
     "output_type": "stream",
     "text": [
      "18:55:36 - cmdstanpy - INFO - Chain [1] done processing\n"
     ]
    },
    {
     "name": "stdout",
     "output_type": "stream",
     "text": [
      "multiplicative 0.5 10.0 0.24450757111638932\n"
     ]
    }
   ],
   "source": [
    "for mode in param_grid['seasonality_mode']:\n",
    "    for cps in param_grid['changepoint_prior_scale']:\n",
    "        for sps in param_grid['seasonality_prior_scale']:\n",
    "            # Create a model with the current hyperparameters\n",
    "            model = Prophet(seasonality_mode=mode, \n",
    "                            changepoint_prior_scale=cps, \n",
    "                            seasonality_prior_scale=sps, \n",
    "                            )\n",
    "            model.fit(train)\n",
    "\n",
    "            # Evaluate the model using Mean Squared Error (MSE) and cross validation\n",
    "            # df_cv = cross_validation(model, initial='4783 days', period='30 days', horizon='1 days')\n",
    "            # score = mean_squared_error(df_cv['y'], df_cv['yhat'])\n",
    "            future = model.make_future_dataframe(periods=train_size)\n",
    "            forecast = model.predict(future)\n",
    "            y_true = test['y'].values\n",
    "            y_pred = forecast['yhat'].values[-len(test):]\n",
    "            score = mean_squared_error(y_true, y_pred)\n",
    "            print(mode, cps, sps, score)\n",
    "\n",
    "            # Update best parameters\n",
    "            if score < best_score:\n",
    "                best_score = score\n",
    "                best_params = {\n",
    "                    'seasonality_mode': mode,\n",
    "                    'changepoint_prior_scale': cps,\n",
    "                    'seasonality_prior_scale': sps\n",
    "                }"
   ]
  },
  {
   "cell_type": "code",
   "execution_count": 10,
   "metadata": {},
   "outputs": [
    {
     "data": {
      "text/plain": [
       "{'seasonality_mode': 'additive',\n",
       " 'changepoint_prior_scale': 0.01,\n",
       " 'seasonality_prior_scale': 1.0}"
      ]
     },
     "execution_count": 10,
     "metadata": {},
     "output_type": "execute_result"
    }
   ],
   "source": [
    "best_params"
   ]
  },
  {
   "cell_type": "code",
   "execution_count": 11,
   "metadata": {},
   "outputs": [
    {
     "name": "stderr",
     "output_type": "stream",
     "text": [
      "18:56:40 - cmdstanpy - INFO - Chain [1] start processing\n",
      "18:56:41 - cmdstanpy - INFO - Chain [1] done processing\n"
     ]
    },
    {
     "data": {
      "text/plain": [
       "<prophet.forecaster.Prophet at 0x13faf9610>"
      ]
     },
     "execution_count": 11,
     "metadata": {},
     "output_type": "execute_result"
    }
   ],
   "source": [
    "model = Prophet(**best_params)\n",
    "# for i in range(context_length):\n",
    "#     model.add_regressor(f'y_lag_{i}')\n",
    "model.fit(train)"
   ]
  },
  {
   "cell_type": "code",
   "execution_count": 12,
   "metadata": {},
   "outputs": [
    {
     "data": {
      "text/html": [
       "<div>\n",
       "<style scoped>\n",
       "    .dataframe tbody tr th:only-of-type {\n",
       "        vertical-align: middle;\n",
       "    }\n",
       "\n",
       "    .dataframe tbody tr th {\n",
       "        vertical-align: top;\n",
       "    }\n",
       "\n",
       "    .dataframe thead th {\n",
       "        text-align: right;\n",
       "    }\n",
       "</style>\n",
       "<table border=\"1\" class=\"dataframe\">\n",
       "  <thead>\n",
       "    <tr style=\"text-align: right;\">\n",
       "      <th></th>\n",
       "      <th>ds</th>\n",
       "      <th>yhat</th>\n",
       "    </tr>\n",
       "  </thead>\n",
       "  <tbody>\n",
       "    <tr>\n",
       "      <th>0</th>\n",
       "      <td>2004-01-02</td>\n",
       "      <td>0.049412</td>\n",
       "    </tr>\n",
       "    <tr>\n",
       "      <th>1</th>\n",
       "      <td>2004-01-05</td>\n",
       "      <td>0.050016</td>\n",
       "    </tr>\n",
       "    <tr>\n",
       "      <th>2</th>\n",
       "      <td>2004-01-06</td>\n",
       "      <td>0.050805</td>\n",
       "    </tr>\n",
       "    <tr>\n",
       "      <th>3</th>\n",
       "      <td>2004-01-07</td>\n",
       "      <td>0.051250</td>\n",
       "    </tr>\n",
       "    <tr>\n",
       "      <th>4</th>\n",
       "      <td>2004-01-08</td>\n",
       "      <td>0.051304</td>\n",
       "    </tr>\n",
       "    <tr>\n",
       "      <th>...</th>\n",
       "      <td>...</td>\n",
       "      <td>...</td>\n",
       "    </tr>\n",
       "    <tr>\n",
       "      <th>5979</th>\n",
       "      <td>2023-11-26</td>\n",
       "      <td>0.895413</td>\n",
       "    </tr>\n",
       "    <tr>\n",
       "      <th>5980</th>\n",
       "      <td>2023-11-27</td>\n",
       "      <td>0.896374</td>\n",
       "    </tr>\n",
       "    <tr>\n",
       "      <th>5981</th>\n",
       "      <td>2023-11-28</td>\n",
       "      <td>0.897021</td>\n",
       "    </tr>\n",
       "    <tr>\n",
       "      <th>5982</th>\n",
       "      <td>2023-11-29</td>\n",
       "      <td>0.897360</td>\n",
       "    </tr>\n",
       "    <tr>\n",
       "      <th>5983</th>\n",
       "      <td>2023-11-30</td>\n",
       "      <td>0.897344</td>\n",
       "    </tr>\n",
       "  </tbody>\n",
       "</table>\n",
       "<p>5984 rows × 2 columns</p>\n",
       "</div>"
      ],
      "text/plain": [
       "             ds      yhat\n",
       "0    2004-01-02  0.049412\n",
       "1    2004-01-05  0.050016\n",
       "2    2004-01-06  0.050805\n",
       "3    2004-01-07  0.051250\n",
       "4    2004-01-08  0.051304\n",
       "...         ...       ...\n",
       "5979 2023-11-26  0.895413\n",
       "5980 2023-11-27  0.896374\n",
       "5981 2023-11-28  0.897021\n",
       "5982 2023-11-29  0.897360\n",
       "5983 2023-11-30  0.897344\n",
       "\n",
       "[5984 rows x 2 columns]"
      ]
     },
     "execution_count": 12,
     "metadata": {},
     "output_type": "execute_result"
    }
   ],
   "source": [
    "# future = data.copy().drop('y', axis=1)\n",
    "# future.reset_index(drop=True, inplace=True)\n",
    "future = model.make_future_dataframe(periods=test_size+30)\n",
    "forecast = model.predict(future)\n",
    "forecast = forecast[['ds', 'yhat']]\n",
    "forecast"
   ]
  },
  {
   "cell_type": "code",
   "execution_count": 13,
   "metadata": {},
   "outputs": [],
   "source": [
    "forecast[['yhat']] = scaler.inverse_transform(forecast[['yhat']])\n",
    "data[['y']] = scaler.inverse_transform(data[['y']])\n"
   ]
  },
  {
   "cell_type": "code",
   "execution_count": 14,
   "metadata": {},
   "outputs": [],
   "source": [
    "# y_true = test['y'].values\n",
    "# y_pred = forecast['yhat'].values[-len(test):]"
   ]
  },
  {
   "cell_type": "code",
   "execution_count": 15,
   "metadata": {},
   "outputs": [
    {
     "data": {
      "image/png": "[encoded data removed]",
      "text/plain": [
       "<Figure size 1600x800 with 1 Axes>"
      ]
     },
     "metadata": {},
     "output_type": "display_data"
    }
   ],
   "source": [
    "plt.figure(figsize=(16,8))\n",
    "plt.plot(data['ds'], data['y'], label='Actual', color='blue')\n",
    "plt.title(f\"Prophet forecast for KRW/KZT\")\n",
    "plt.plot(forecast['ds'][:len(data)], forecast['yhat'][:len(data)], label='Forecast', color='red')\n",
    "plt.legend()\n",
    "plt.savefig('./plots/prophet_krwkzt_train_val')\n",
    "plt.show()"
   ]
  },
  {
   "cell_type": "code",
   "execution_count": 16,
   "metadata": {},
   "outputs": [
    {
     "data": {
      "text/html": [
       "<div>\n",
       "<style scoped>\n",
       "    .dataframe tbody tr th:only-of-type {\n",
       "        vertical-align: middle;\n",
       "    }\n",
       "\n",
       "    .dataframe tbody tr th {\n",
       "        vertical-align: top;\n",
       "    }\n",
       "\n",
       "    .dataframe thead th {\n",
       "        text-align: right;\n",
       "    }\n",
       "</style>\n",
       "<table border=\"1\" class=\"dataframe\">\n",
       "  <thead>\n",
       "    <tr style=\"text-align: right;\">\n",
       "      <th></th>\n",
       "      <th>ds</th>\n",
       "      <th>y</th>\n",
       "    </tr>\n",
       "  </thead>\n",
       "  <tbody>\n",
       "    <tr>\n",
       "      <th>0</th>\n",
       "      <td>2023-11-01</td>\n",
       "      <td>0.348330</td>\n",
       "    </tr>\n",
       "    <tr>\n",
       "      <th>1</th>\n",
       "      <td>2023-11-02</td>\n",
       "      <td>0.349403</td>\n",
       "    </tr>\n",
       "    <tr>\n",
       "      <th>2</th>\n",
       "      <td>2023-11-03</td>\n",
       "      <td>0.352313</td>\n",
       "    </tr>\n",
       "    <tr>\n",
       "      <th>3</th>\n",
       "      <td>2023-11-04</td>\n",
       "      <td>0.352271</td>\n",
       "    </tr>\n",
       "    <tr>\n",
       "      <th>4</th>\n",
       "      <td>2023-11-05</td>\n",
       "      <td>0.352271</td>\n",
       "    </tr>\n",
       "  </tbody>\n",
       "</table>\n",
       "</div>"
      ],
      "text/plain": [
       "           ds         y\n",
       "0  2023-11-01  0.348330\n",
       "1  2023-11-02  0.349403\n",
       "2  2023-11-03  0.352313\n",
       "3  2023-11-04  0.352271\n",
       "4  2023-11-05  0.352271"
      ]
     },
     "execution_count": 16,
     "metadata": {},
     "output_type": "execute_result"
    }
   ],
   "source": [
    "test_df = pd.read_csv(\"./krwkzt-test.csv\")\n",
    "test_df[\"Close\"] = test_df.Close.map(lambda x: np.float32(x.replace(\",\", \".\")))\n",
    "test_df[\"Date\"] = test_df.Date.map(lambda x: pd.to_datetime(x, dayfirst=True).date())\n",
    "test_df.rename(columns={'Date': 'ds', 'Close':'y'}, inplace=True)\n",
    "test_df.head()"
   ]
  },
  {
   "cell_type": "code",
   "execution_count": 17,
   "metadata": {},
   "outputs": [
    {
     "data": {
      "text/plain": [
       "0.0013410534607858045"
      ]
     },
     "execution_count": 17,
     "metadata": {},
     "output_type": "execute_result"
    }
   ],
   "source": [
    "testY = test_df.y.values\n",
    "testPred = forecast[-30:].yhat.values\n",
    "# testPred\n",
    "testScore = mean_squared_error(testY, testPred)\n",
    "testScore"
   ]
  },
  {
   "cell_type": "code",
   "execution_count": 18,
   "metadata": {},
   "outputs": [
    {
     "data": {
      "image/png": "[encoded data removed]",
      "text/plain": [
       "<Figure size 640x480 with 1 Axes>"
      ]
     },
     "metadata": {},
     "output_type": "display_data"
    }
   ],
   "source": [
    "plt.plot(testPred, label='prediction')\n",
    "plt.plot(testY, label='ground truth')\n",
    "plt.title(f\"Prophet forecast with MSE={testScore:.6f} for KRW/KZT\")\n",
    "plt.legend()\n",
    "plt.savefig('./plots/prophet_krwkzt_test')\n",
    "plt.show()"
   ]
  },
  {
   "cell_type": "markdown",
   "metadata": {},
   "source": [
    "Best params for KRW/VND: {'seasonality_mode': 'additive',\n",
    " 'changepoint_prior_scale': 0.01,\n",
    " 'seasonality_prior_scale': 0.01}"
   ]
  },
  {
   "cell_type": "markdown",
   "metadata": {},
   "source": [
    "Best params for KRW/KZT: {'seasonality_mode': 'additive',\n",
    " 'changepoint_prior_scale': 0.01,\n",
    " 'seasonality_prior_scale': 1.0}"
   ]
  },
  {
   "cell_type": "code",
   "execution_count": null,
   "metadata": {},
   "outputs": [],
   "source": []
  }
 ],
 "metadata": {
  "kernelspec": {
   "display_name": "Python 3",
   "language": "python",
   "name": "python3"
  },
  "language_info": {
   "codemirror_mode": {
    "name": "ipython",
    "version": 3
   },
   "file_extension": ".py",
   "mimetype": "text/x-python",
   "name": "python",
   "nbconvert_exporter": "python",
   "pygments_lexer": "ipython3",
   "version": "3.11.4"
  }
 },
 "nbformat": 4,
 "nbformat_minor": 2
}
